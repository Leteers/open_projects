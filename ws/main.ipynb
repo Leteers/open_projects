{
 "cells": [
  {
   "cell_type": "code",
   "execution_count": 3,
   "id": "b10a901e",
   "metadata": {},
   "outputs": [],
   "source": [
    "import socket"
   ]
  },
  {
   "cell_type": "code",
   "execution_count": 4,
   "id": "321d29ca",
   "metadata": {},
   "outputs": [
    {
     "data": {
      "text/plain": [
       "10"
      ]
     },
     "execution_count": 4,
     "metadata": {},
     "output_type": "execute_result"
    }
   ],
   "source": [
    "sock = socket.socket(socket.AF_INET, socket.SOCK_DGRAM)\n",
    "sock.sendto(b\"Hello UDP!\", (\"193.169.238.83\", 5056))"
   ]
  },
  {
   "cell_type": "code",
   "execution_count": 8,
   "id": "af4f5146",
   "metadata": {},
   "outputs": [
    {
     "name": "stdout",
     "output_type": "stream",
     "text": [
      "Запрос отправлен\n",
      "\n",
      "Прекращаем ожидание новых пакетов\n"
     ]
    }
   ],
   "source": [
    "import socket\n",
    "\n",
    "def udp_client():\n",
    "    dst_ip = \"193.169.238.83\"\n",
    "    dst_port = 5056\n",
    "    src_port = 55317\n",
    "\n",
    "    udp_payload = bytes.fromhex(\"898f0001000af96d055a9eaa06000104000000600000005ff30201001100620f01730007776561706f6e7302730000037300000473000005730000066900000000077300000969000000000a7300000b6bfffe0c62320e6f010f6900000000106f01ff690000006ffd6b004b\")  # Ваши данные\n",
    "\n",
    "    with socket.socket(socket.AF_INET, socket.SOCK_DGRAM) as sock:\n",
    "        sock.bind((\"0.0.0.0\", src_port))  # Фиксируем исходный порт\n",
    "        sock.settimeout(10.0)\n",
    "        \n",
    "        sock.sendto(udp_payload, (dst_ip, dst_port))\n",
    "        print(\"Запрос отправлен\")\n",
    "\n",
    "        while True:\n",
    "            try:\n",
    "                data, addr = sock.recvfrom(4096)\n",
    "                print(f\"\\nОтвет от {addr}:\")\n",
    "                print(f\"HEX: {data.hex()}\")\n",
    "                print(f\"Длина: {len(data)} байт\")\n",
    "                \n",
    "                # Здесь можно разбирать данные, например:\n",
    "                if data.startswith(b\"\\x89\\x8f\"):  # Если ответ имеет известный заголовок\n",
    "                    print(\"Это ожидаемый ответ!\")\n",
    "                \n",
    "            except socket.timeout:\n",
    "                print(\"\\nПрекращаем ожидание новых пакетов\")\n",
    "                break\n",
    "\n",
    "udp_client()"
   ]
  },
  {
   "cell_type": "code",
   "execution_count": 9,
   "id": "a7119277",
   "metadata": {},
   "outputs": [],
   "source": [
    "import socket\n",
    "\n",
    "# Настройки\n",
    "dst_ip = \"193.169.238.83\"  # Куда отправляем\n",
    "dst_port = 5056             # Порт назначения\n",
    "src_port = 55317            # Порт источника (необязательно)\n",
    "\n",
    "# Данные (взяты из HEX-дампа)\n",
    "udp_payload = bytes.fromhex(\n",
    "    \"898f0001000af96d055a9eaa06000104000000600000005ff30201001100620f01730007776561706f6e7302730000037300000473000005730000066900000000077300000969000000000a7300000b6bfffe0c62320e6f010f6900000000106f01ff690000006ffd6b004b\"\n",
    ")\n",
    "\n",
    "# Создаём UDP-сокет и отправляем\n",
    "sock = socket.socket(socket.AF_INET, socket.SOCK_DGRAM)\n",
    "sock.bind((\"0.0.0.0\", src_port))  # Опционально, если нужен конкретный src_port\n",
    "sock.sendto(udp_payload, (dst_ip, dst_port))\n",
    "sock.close()"
   ]
  },
  {
   "cell_type": "code",
   "execution_count": 10,
   "id": "a882ff5a",
   "metadata": {},
   "outputs": [
    {
     "name": "stdout",
     "output_type": "stream",
     "text": [
      "Отправлен UDP-пакет на 193.169.238.83:5056\n",
      "Таймаут, ответ не получен\n"
     ]
    }
   ],
   "source": [
    "import socket\n",
    "\n",
    "# Настройки\n",
    "dst_ip = \"193.169.238.83\"\n",
    "dst_port = 5056\n",
    "src_port = 55317  # Порт, с которого отправляем (может быть любым)\n",
    "\n",
    "# Данные из вашего примера\n",
    "udp_payload = bytes.fromhex(\n",
    "    \"898f0001000af96d055a9eaa06000104000000600000005ff30201001100620f01730007776561706f6e7302730000037300000473000005730000066900000000077300000969000000000a7300000b6bfffe0c62320e6f010f6900000000106f01ff690000006ffd6b004b\"\n",
    ")\n",
    "\n",
    "# Создаём UDP-сокет с таймаутом (чтобы не ждать вечно)\n",
    "sock = socket.socket(socket.AF_INET, socket.SOCK_DGRAM)\n",
    "sock.settimeout(5.0)  # Ждём ответ 5 секунд\n",
    "\n",
    "# Отправляем запрос\n",
    "sock.sendto(udp_payload, (dst_ip, dst_port))\n",
    "print(f\"Отправлен UDP-пакет на {dst_ip}:{dst_port}\")\n",
    "\n",
    "# Пытаемся получить ответ\n",
    "try:\n",
    "    data, addr = sock.recvfrom(4096)  # Буфер 4096 байт\n",
    "    print(f\"Получен ответ от {addr}:\")\n",
    "    print(\"HEX:\", data.hex())\n",
    "    print(\"RAW:\", data)\n",
    "except socket.timeout:\n",
    "    print(\"Таймаут, ответ не получен\")\n",
    "finally:\n",
    "    sock.close()"
   ]
  }
 ],
 "metadata": {
  "kernelspec": {
   "display_name": "Python 3",
   "language": "python",
   "name": "python3"
  },
  "language_info": {
   "codemirror_mode": {
    "name": "ipython",
    "version": 3
   },
   "file_extension": ".py",
   "mimetype": "text/x-python",
   "name": "python",
   "nbconvert_exporter": "python",
   "pygments_lexer": "ipython3",
   "version": "3.13.0"
  }
 },
 "nbformat": 4,
 "nbformat_minor": 5
}
