{
 "cells": [
  {
   "cell_type": "markdown",
   "metadata": {},
   "source": [
    "<h1>COUNT HOW MANY TIMES DOES SUBSTRING APPEAR IN STRING</h1>"
   ]
  },
  {
   "cell_type": "code",
   "execution_count": 2,
   "metadata": {},
   "outputs": [
    {
     "name": "stdout",
     "output_type": "stream",
     "text": [
      "{'s': 3, 'a': 5, 'd': 1, 'f': 1, 'g': 1}\n"
     ]
    }
   ],
   "source": [
    "string = 's a s a s a a a d f g'\n",
    "\n",
    "dicton = {x : str.count(string, x) for x in string.split(' ')}\n",
    "\n",
    "print(dicton)"
   ]
  },
  {
   "cell_type": "markdown",
   "metadata": {},
   "source": [
    "<h1>COUNT HOW MANY TIMES DOES A NUMBER APPEAR IN ARRAY</h1>"
   ]
  },
  {
   "cell_type": "code",
   "execution_count": 6,
   "metadata": {},
   "outputs": [
    {
     "name": "stdout",
     "output_type": "stream",
     "text": [
      "{1: 1, 2: 2, 3: 2, 4: 1, 5: 1}\n"
     ]
    }
   ],
   "source": [
    "arr = [2, 2, 1, 3, 3, 4, 5]\n",
    "\n",
    "dicton = {x: arr.count(x) for x in set(arr)}\n",
    "\n",
    "print(dicton)"
   ]
  },
  {
   "cell_type": "code",
   "execution_count": null,
   "metadata": {},
   "outputs": [
    {
     "name": "stdout",
     "output_type": "stream",
     "text": [
      "4\n"
     ]
    }
   ],
   "source": [
    "arr = [2, 2, 1, 3, 3, 4, 5]\n",
    "\n",
    "dicton = {x: arr.count(x) for x in set(arr)}\n",
    "res = 0\n",
    "maxim = max(dicton.values())\n",
    "for i in dicton.values():\n",
    "    if i == maxim:\n",
    "        res += i\n",
    "print(res)"
   ]
  },
  {
   "cell_type": "markdown",
   "metadata": {},
   "source": [
    "<h1>FIND MOST COMMON STRING IN LIST"
   ]
  },
  {
   "cell_type": "code",
   "execution_count": 2,
   "metadata": {},
   "outputs": [
    {
     "data": {
      "text/plain": [
       "{'oleg': 3, 'olga': 4}"
      ]
     },
     "execution_count": 2,
     "metadata": {},
     "output_type": "execute_result"
    }
   ],
   "source": [
    "arr = ['oleg','oleg','oleg','olga','olga','olga','olga']\n",
    "dicton = {x: arr.count(x) for x in set(arr)}\n",
    "dicton\n",
    "# one_of_the_most_common_strings = list(dicton.keys())[list(dicton.values()).index(max(dicton.values()))]\n",
    "# print(one_of_the_most_common_strings)"
   ]
  }
 ],
 "metadata": {
  "kernelspec": {
   "display_name": "Python 3",
   "language": "python",
   "name": "python3"
  },
  "language_info": {
   "codemirror_mode": {
    "name": "ipython",
    "version": 3
   },
   "file_extension": ".py",
   "mimetype": "text/x-python",
   "name": "python",
   "nbconvert_exporter": "python",
   "pygments_lexer": "ipython3",
   "version": "3.13.0"
  }
 },
 "nbformat": 4,
 "nbformat_minor": 2
}
