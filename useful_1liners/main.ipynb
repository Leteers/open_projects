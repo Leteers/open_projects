{
 "cells": [
  {
   "cell_type": "markdown",
   "metadata": {},
   "source": [
    "<h1>COUNT HOW MANY TIMES DOES SUBSTRING APPEAR IN STRING</h1>"
   ]
  },
  {
   "cell_type": "code",
   "execution_count": 2,
   "metadata": {},
   "outputs": [
    {
     "name": "stdout",
     "output_type": "stream",
     "text": [
      "{'s': 3, 'a': 5, 'd': 1, 'f': 1, 'g': 1}\n"
     ]
    }
   ],
   "source": [
    "string = 's a s a s a a a d f g'\n",
    "\n",
    "dicton = {x : str.count(string, x) for x in string.split(' ')}\n",
    "\n",
    "print(dicton)"
   ]
  },
  {
   "cell_type": "markdown",
   "metadata": {},
   "source": [
    "<h1>COUNT HOW MANY TIMES DOES A NUMBER APPEAR IN ARRAY</h1>"
   ]
  },
  {
   "cell_type": "code",
   "execution_count": 6,
   "metadata": {},
   "outputs": [
    {
     "name": "stdout",
     "output_type": "stream",
     "text": [
      "{1: 1, 2: 2, 3: 2, 4: 1, 5: 1}\n"
     ]
    }
   ],
   "source": [
    "arr = [2, 2, 1, 3, 3, 4, 5]\n",
    "\n",
    "dicton = {x: arr.count(x) for x in set(arr)}\n",
    "\n",
    "print(dicton)"
   ]
  },
  {
   "cell_type": "code",
   "execution_count": 6,
   "metadata": {},
   "outputs": [
    {
     "name": "stdout",
     "output_type": "stream",
     "text": [
      "4\n"
     ]
    }
   ],
   "source": [
    "arr = [2, 2, 1, 3, 3, 4, 5]\n",
    "\n",
    "dicton = {x: arr.count(x) for x in set(arr)}\n",
    "res = 0\n",
    "maxim = max(dicton.values())\n",
    "for i in dicton.values():\n",
    "    if i == maxim:\n",
    "        res += i\n",
    "print(res)"
   ]
  },
  {
   "cell_type": "code",
   "execution_count": 1,
   "metadata": {},
   "outputs": [
    {
     "data": {
      "text/plain": [
       "(1, 2, 3, 4, 5, 1, 3, 65, 6565)"
      ]
     },
     "execution_count": 1,
     "metadata": {},
     "output_type": "execute_result"
    }
   ],
   "source": [
    "a = (1,2,3,4,5)\n",
    "b = (1,3,65,6565)\n",
    "\n",
    "tuple()\n",
    "a+b"
   ]
  },
  {
   "cell_type": "code",
   "execution_count": 6,
   "metadata": {},
   "outputs": [
    {
     "data": {
      "text/plain": [
       "3"
      ]
     },
     "execution_count": 6,
     "metadata": {},
     "output_type": "execute_result"
    }
   ],
   "source": [
    "s = {'a':'123','a' :'234'}\n",
    "s1 = '123'\n",
    "len(set(s1))"
   ]
  }
 ],
 "metadata": {
  "kernelspec": {
   "display_name": "Python 3",
   "language": "python",
   "name": "python3"
  },
  "language_info": {
   "codemirror_mode": {
    "name": "ipython",
    "version": 3
   },
   "file_extension": ".py",
   "mimetype": "text/x-python",
   "name": "python",
   "nbconvert_exporter": "python",
   "pygments_lexer": "ipython3",
   "version": "3.10.0"
  }
 },
 "nbformat": 4,
 "nbformat_minor": 2
}
